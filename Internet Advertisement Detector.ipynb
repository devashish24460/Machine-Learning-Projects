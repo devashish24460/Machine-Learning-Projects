{
 "cells": [
  {
   "cell_type": "code",
   "execution_count": 1,
   "id": "6a4f2df9",
   "metadata": {},
   "outputs": [],
   "source": [
    "import numpy as np # linear algebra\n",
    "import pandas as pd # data processing, CSV file I/O (e.g. pd.read_csv)\n",
    "from sklearn.model_selection import train_test_split\n",
    "from sklearn.utils import shuffle\n",
    "import random\n",
    "import matplotlib.pyplot as plt"
   ]
  },
  {
   "cell_type": "code",
   "execution_count": 2,
   "id": "04d836fd",
   "metadata": {},
   "outputs": [
    {
     "name": "stderr",
     "output_type": "stream",
     "text": [
      "C:\\Users\\DEVASHISH\\AppData\\Local\\Temp\\ipykernel_28524\\3167577387.py:1: DtypeWarning: Columns (4) have mixed types. Specify dtype option on import or set low_memory=False.\n",
      "  data_original = pd.read_csv('add.csv')\n"
     ]
    },
    {
     "data": {
      "text/html": [
       "<div>\n",
       "<style scoped>\n",
       "    .dataframe tbody tr th:only-of-type {\n",
       "        vertical-align: middle;\n",
       "    }\n",
       "\n",
       "    .dataframe tbody tr th {\n",
       "        vertical-align: top;\n",
       "    }\n",
       "\n",
       "    .dataframe thead th {\n",
       "        text-align: right;\n",
       "    }\n",
       "</style>\n",
       "<table border=\"1\" class=\"dataframe\">\n",
       "  <thead>\n",
       "    <tr style=\"text-align: right;\">\n",
       "      <th></th>\n",
       "      <th>Unnamed: 0</th>\n",
       "      <th>0</th>\n",
       "      <th>1</th>\n",
       "      <th>2</th>\n",
       "      <th>3</th>\n",
       "      <th>4</th>\n",
       "      <th>5</th>\n",
       "      <th>6</th>\n",
       "      <th>7</th>\n",
       "      <th>8</th>\n",
       "      <th>...</th>\n",
       "      <th>1549</th>\n",
       "      <th>1550</th>\n",
       "      <th>1551</th>\n",
       "      <th>1552</th>\n",
       "      <th>1553</th>\n",
       "      <th>1554</th>\n",
       "      <th>1555</th>\n",
       "      <th>1556</th>\n",
       "      <th>1557</th>\n",
       "      <th>1558</th>\n",
       "    </tr>\n",
       "  </thead>\n",
       "  <tbody>\n",
       "    <tr>\n",
       "      <th>0</th>\n",
       "      <td>0</td>\n",
       "      <td>125</td>\n",
       "      <td>125</td>\n",
       "      <td>1</td>\n",
       "      <td>1</td>\n",
       "      <td>0</td>\n",
       "      <td>0</td>\n",
       "      <td>0</td>\n",
       "      <td>0</td>\n",
       "      <td>0</td>\n",
       "      <td>...</td>\n",
       "      <td>0</td>\n",
       "      <td>0</td>\n",
       "      <td>0</td>\n",
       "      <td>0</td>\n",
       "      <td>0</td>\n",
       "      <td>0</td>\n",
       "      <td>0</td>\n",
       "      <td>0</td>\n",
       "      <td>0</td>\n",
       "      <td>ad.</td>\n",
       "    </tr>\n",
       "    <tr>\n",
       "      <th>1</th>\n",
       "      <td>1</td>\n",
       "      <td>57</td>\n",
       "      <td>468</td>\n",
       "      <td>8.2105</td>\n",
       "      <td>1</td>\n",
       "      <td>0</td>\n",
       "      <td>0</td>\n",
       "      <td>0</td>\n",
       "      <td>0</td>\n",
       "      <td>0</td>\n",
       "      <td>...</td>\n",
       "      <td>0</td>\n",
       "      <td>0</td>\n",
       "      <td>0</td>\n",
       "      <td>0</td>\n",
       "      <td>0</td>\n",
       "      <td>0</td>\n",
       "      <td>0</td>\n",
       "      <td>0</td>\n",
       "      <td>0</td>\n",
       "      <td>ad.</td>\n",
       "    </tr>\n",
       "    <tr>\n",
       "      <th>2</th>\n",
       "      <td>2</td>\n",
       "      <td>33</td>\n",
       "      <td>230</td>\n",
       "      <td>6.9696</td>\n",
       "      <td>1</td>\n",
       "      <td>0</td>\n",
       "      <td>0</td>\n",
       "      <td>0</td>\n",
       "      <td>0</td>\n",
       "      <td>0</td>\n",
       "      <td>...</td>\n",
       "      <td>0</td>\n",
       "      <td>0</td>\n",
       "      <td>0</td>\n",
       "      <td>0</td>\n",
       "      <td>0</td>\n",
       "      <td>0</td>\n",
       "      <td>0</td>\n",
       "      <td>0</td>\n",
       "      <td>0</td>\n",
       "      <td>ad.</td>\n",
       "    </tr>\n",
       "    <tr>\n",
       "      <th>3</th>\n",
       "      <td>3</td>\n",
       "      <td>60</td>\n",
       "      <td>468</td>\n",
       "      <td>7.8</td>\n",
       "      <td>1</td>\n",
       "      <td>0</td>\n",
       "      <td>0</td>\n",
       "      <td>0</td>\n",
       "      <td>0</td>\n",
       "      <td>0</td>\n",
       "      <td>...</td>\n",
       "      <td>0</td>\n",
       "      <td>0</td>\n",
       "      <td>0</td>\n",
       "      <td>0</td>\n",
       "      <td>0</td>\n",
       "      <td>0</td>\n",
       "      <td>0</td>\n",
       "      <td>0</td>\n",
       "      <td>0</td>\n",
       "      <td>ad.</td>\n",
       "    </tr>\n",
       "    <tr>\n",
       "      <th>4</th>\n",
       "      <td>4</td>\n",
       "      <td>60</td>\n",
       "      <td>468</td>\n",
       "      <td>7.8</td>\n",
       "      <td>1</td>\n",
       "      <td>0</td>\n",
       "      <td>0</td>\n",
       "      <td>0</td>\n",
       "      <td>0</td>\n",
       "      <td>0</td>\n",
       "      <td>...</td>\n",
       "      <td>0</td>\n",
       "      <td>0</td>\n",
       "      <td>0</td>\n",
       "      <td>0</td>\n",
       "      <td>0</td>\n",
       "      <td>0</td>\n",
       "      <td>0</td>\n",
       "      <td>0</td>\n",
       "      <td>0</td>\n",
       "      <td>ad.</td>\n",
       "    </tr>\n",
       "  </tbody>\n",
       "</table>\n",
       "<p>5 rows × 1560 columns</p>\n",
       "</div>"
      ],
      "text/plain": [
       "   Unnamed: 0    0    1       2  3  4  5  6  7  8  ...  1549  1550  1551  \\\n",
       "0           0  125  125       1  1  0  0  0  0  0  ...     0     0     0   \n",
       "1           1   57  468  8.2105  1  0  0  0  0  0  ...     0     0     0   \n",
       "2           2   33  230  6.9696  1  0  0  0  0  0  ...     0     0     0   \n",
       "3           3   60  468     7.8  1  0  0  0  0  0  ...     0     0     0   \n",
       "4           4   60  468     7.8  1  0  0  0  0  0  ...     0     0     0   \n",
       "\n",
       "   1552  1553  1554  1555  1556  1557  1558  \n",
       "0     0     0     0     0     0     0   ad.  \n",
       "1     0     0     0     0     0     0   ad.  \n",
       "2     0     0     0     0     0     0   ad.  \n",
       "3     0     0     0     0     0     0   ad.  \n",
       "4     0     0     0     0     0     0   ad.  \n",
       "\n",
       "[5 rows x 1560 columns]"
      ]
     },
     "execution_count": 2,
     "metadata": {},
     "output_type": "execute_result"
    }
   ],
   "source": [
    "data_original = pd.read_csv('add.csv')\n",
    "data_original.head()\n"
   ]
  },
  {
   "cell_type": "code",
   "execution_count": 3,
   "id": "792f617d",
   "metadata": {},
   "outputs": [
    {
     "data": {
      "text/html": [
       "<div>\n",
       "<style scoped>\n",
       "    .dataframe tbody tr th:only-of-type {\n",
       "        vertical-align: middle;\n",
       "    }\n",
       "\n",
       "    .dataframe tbody tr th {\n",
       "        vertical-align: top;\n",
       "    }\n",
       "\n",
       "    .dataframe thead th {\n",
       "        text-align: right;\n",
       "    }\n",
       "</style>\n",
       "<table border=\"1\" class=\"dataframe\">\n",
       "  <thead>\n",
       "    <tr style=\"text-align: right;\">\n",
       "      <th></th>\n",
       "      <th>0</th>\n",
       "      <th>1</th>\n",
       "      <th>2</th>\n",
       "      <th>1558</th>\n",
       "    </tr>\n",
       "  </thead>\n",
       "  <tbody>\n",
       "    <tr>\n",
       "      <th>0</th>\n",
       "      <td>125</td>\n",
       "      <td>125</td>\n",
       "      <td>1</td>\n",
       "      <td>ad.</td>\n",
       "    </tr>\n",
       "    <tr>\n",
       "      <th>1</th>\n",
       "      <td>57</td>\n",
       "      <td>468</td>\n",
       "      <td>8.2105</td>\n",
       "      <td>ad.</td>\n",
       "    </tr>\n",
       "    <tr>\n",
       "      <th>2</th>\n",
       "      <td>33</td>\n",
       "      <td>230</td>\n",
       "      <td>6.9696</td>\n",
       "      <td>ad.</td>\n",
       "    </tr>\n",
       "    <tr>\n",
       "      <th>3</th>\n",
       "      <td>60</td>\n",
       "      <td>468</td>\n",
       "      <td>7.8</td>\n",
       "      <td>ad.</td>\n",
       "    </tr>\n",
       "    <tr>\n",
       "      <th>4</th>\n",
       "      <td>60</td>\n",
       "      <td>468</td>\n",
       "      <td>7.8</td>\n",
       "      <td>ad.</td>\n",
       "    </tr>\n",
       "  </tbody>\n",
       "</table>\n",
       "</div>"
      ],
      "text/plain": [
       "     0    1       2 1558\n",
       "0  125  125       1  ad.\n",
       "1   57  468  8.2105  ad.\n",
       "2   33  230  6.9696  ad.\n",
       "3   60  468     7.8  ad.\n",
       "4   60  468     7.8  ad."
      ]
     },
     "execution_count": 3,
     "metadata": {},
     "output_type": "execute_result"
    }
   ],
   "source": [
    "data_select = data_original[['0', '1', '2', '1558']]\n",
    "data_select.head()\n"
   ]
  },
  {
   "cell_type": "code",
   "execution_count": 5,
   "id": "86b319c5",
   "metadata": {},
   "outputs": [],
   "source": [
    "data_select = data_select[data_select['0'].notna()]\n",
    "data_select = data_select[data_select['1'].notna()]\n",
    "data_select = data_select[data_select['2'].notna()]\n",
    "data_select = data_select[data_select['1558'].notna()]"
   ]
  },
  {
   "cell_type": "code",
   "execution_count": 6,
   "id": "498d007a",
   "metadata": {},
   "outputs": [],
   "source": [
    "data_select['0'] = pd.to_numeric(data_select['0'], errors = 'coerce')\n",
    "data_select['1'] = pd.to_numeric(data_select['1'], errors = 'coerce')\n",
    "data_select['2'] = pd.to_numeric(data_select['2'], errors = 'coerce')\n",
    "data_select[['1558']] = data_select[['1558']].astype('string')"
   ]
  },
  {
   "cell_type": "code",
   "execution_count": 9,
   "id": "6d07ccd2",
   "metadata": {},
   "outputs": [
    {
     "data": {
      "text/html": [
       "<div>\n",
       "<style scoped>\n",
       "    .dataframe tbody tr th:only-of-type {\n",
       "        vertical-align: middle;\n",
       "    }\n",
       "\n",
       "    .dataframe tbody tr th {\n",
       "        vertical-align: top;\n",
       "    }\n",
       "\n",
       "    .dataframe thead th {\n",
       "        text-align: right;\n",
       "    }\n",
       "</style>\n",
       "<table border=\"1\" class=\"dataframe\">\n",
       "  <thead>\n",
       "    <tr style=\"text-align: right;\">\n",
       "      <th></th>\n",
       "      <th>0</th>\n",
       "      <th>1</th>\n",
       "      <th>2</th>\n",
       "    </tr>\n",
       "    <tr>\n",
       "      <th>1558</th>\n",
       "      <th></th>\n",
       "      <th></th>\n",
       "      <th></th>\n",
       "    </tr>\n",
       "  </thead>\n",
       "  <tbody>\n",
       "    <tr>\n",
       "      <th>0.0</th>\n",
       "      <td>1990</td>\n",
       "      <td>1992</td>\n",
       "      <td>1983</td>\n",
       "    </tr>\n",
       "    <tr>\n",
       "      <th>1.0</th>\n",
       "      <td>386</td>\n",
       "      <td>386</td>\n",
       "      <td>386</td>\n",
       "    </tr>\n",
       "  </tbody>\n",
       "</table>\n",
       "</div>"
      ],
      "text/plain": [
       "         0     1     2\n",
       "1558                  \n",
       "0.0   1990  1992  1983\n",
       "1.0    386   386   386"
      ]
     },
     "execution_count": 9,
     "metadata": {},
     "output_type": "execute_result"
    }
   ],
   "source": [
    "data_select.groupby('1558').count()"
   ]
  },
  {
   "cell_type": "code",
   "execution_count": 10,
   "id": "5fafa867",
   "metadata": {},
   "outputs": [],
   "source": [
    "data_select['1558'] = np.where(data_select['1558'] == 'ad.', 1, 0)\n",
    "data_select['1558'] = data_select['1558'].astype(float)"
   ]
  },
  {
   "cell_type": "code",
   "execution_count": 11,
   "id": "16716089",
   "metadata": {},
   "outputs": [],
   "source": [
    "data_select = data_select.dropna()"
   ]
  },
  {
   "cell_type": "code",
   "execution_count": 12,
   "id": "f71f3737",
   "metadata": {},
   "outputs": [],
   "source": [
    "data_select.columns = ['height', 'width', 'aspect_ratio', 'category']"
   ]
  },
  {
   "cell_type": "code",
   "execution_count": 13,
   "id": "fa68df7f",
   "metadata": {},
   "outputs": [],
   "source": [
    "random.seed(1)\n",
    "data_select = shuffle(data_select)\n",
    "\n",
    "train_set, test_set = train_test_split(data_select, train_size=1895, test_size=(2369-1895))\n",
    "\n",
    "X_train = train_set[['height', 'width', 'aspect_ratio']]\n",
    "Y_train = train_set[['category']]\n",
    "\n",
    "X_test = test_set[['height', 'width', 'aspect_ratio']]\n",
    "Y_test = test_set[['category']]\n",
    "\n",
    "X_train = X_train.T\n",
    "Y_train = Y_train.T\n",
    "X_test = X_test.T\n",
    "Y_test = Y_test.T"
   ]
  },
  {
   "cell_type": "code",
   "execution_count": 14,
   "id": "21d26cb4",
   "metadata": {},
   "outputs": [],
   "source": [
    "X_train = X_train.to_numpy()\n",
    "Y_train = Y_train.to_numpy()\n",
    "X_test = X_test.to_numpy()\n",
    "Y_test = Y_test.to_numpy()"
   ]
  },
  {
   "cell_type": "code",
   "execution_count": 16,
   "id": "cd789d1d",
   "metadata": {},
   "outputs": [],
   "source": [
    "def sigmoid(z):\n",
    "    s = 1 / (1 + np.exp(-z))\n",
    "    return s"
   ]
  },
  {
   "cell_type": "code",
   "execution_count": 19,
   "id": "c051d1c4",
   "metadata": {},
   "outputs": [
    {
     "ename": "SyntaxError",
     "evalue": "cannot assign to function call (697280683.py, line 2)",
     "output_type": "error",
     "traceback": [
      "\u001b[1;36m  File \u001b[1;32m\"C:\\Users\\DEVASHISH\\AppData\\Local\\Temp\\ipykernel_28524\\697280683.py\"\u001b[1;36m, line \u001b[1;32m2\u001b[0m\n\u001b[1;33m    sigmoid([0, 2]) = [0.5        0.88079708]\u001b[0m\n\u001b[1;37m    ^\u001b[0m\n\u001b[1;31mSyntaxError\u001b[0m\u001b[1;31m:\u001b[0m cannot assign to function call\n"
     ]
    }
   ],
   "source": [
    "print(\"sigmoid([0, 2]) = \" + str(sigmoid(np.array([0, 2]))))\n",
    "sigmoid([0, 2]) = [0.5        0.88079708]"
   ]
  },
  {
   "cell_type": "code",
   "execution_count": 33,
   "id": "1dd2f534",
   "metadata": {},
   "outputs": [],
   "source": [
    "def initialise_with_zeros(dim):\n",
    "     w = np.zeros(shape=(dim, 1))\n",
    "     b = 0\n",
    "     assert(w.shape == (dim, 1))\n",
    "     assert(isinstance(b, float) or isinstance(b, int))\n",
    "    \n",
    "     return w, b   "
   ]
  },
  {
   "cell_type": "code",
   "execution_count": 35,
   "id": "277ab253",
   "metadata": {},
   "outputs": [
    {
     "name": "stdout",
     "output_type": "stream",
     "text": [
      "w = [[0.]\n",
      " [0.]\n",
      " [0.]]\n",
      "b = 0\n"
     ]
    }
   ],
   "source": [
    "def initialise_with_zeros(dim):\n",
    "    w = np.zeros((dim, 1))\n",
    "    b = 0\n",
    "    return w, b\n",
    "\n",
    "dim = 3\n",
    "w, b = initialise_with_zeros(dim)\n",
    "\n",
    "print(\"w = \" + str(w))\n",
    "print(\"b =\", b)"
   ]
  },
  {
   "cell_type": "code",
   "execution_count": 38,
   "id": "5698ab51",
   "metadata": {},
   "outputs": [],
   "source": [
    "def propagate(w, b, X, Y):\n",
    "    m = X.shape[1]\n",
    "    A = sigmoid(np.dot(w.T, X) + b)\n",
    "    \n",
    "    # Compute cost\n",
    "    cost = (-1/m) * np.sum(Y * np.log(A) + (1-Y) * np.log(1-A))\n",
    "    \n",
    "    # Backward propagation\n",
    "    dw = (1/m) * np.dot(X, (A - Y).T)\n",
    "    db = (1/m) * np.sum(A - Y)\n",
    "    \n",
    "    assert(dw.shape == w.shape)\n",
    "    assert(db.dtype == float)\n",
    "    cost = np.squeeze(cost)\n",
    "    assert(cost.shape == ())\n",
    "    grads = {\n",
    "        \"dw\" : dw,\n",
    "        \"db\" : db\n",
    "    }\n",
    "\n",
    "    return grads, cost"
   ]
  },
  {
   "cell_type": "code",
   "execution_count": 40,
   "id": "60404533",
   "metadata": {},
   "outputs": [
    {
     "name": "stderr",
     "output_type": "stream",
     "text": [
      "C:\\Users\\DEVASHISH\\AppData\\Local\\Temp\\ipykernel_28524\\2396889674.py:6: RuntimeWarning: divide by zero encountered in log\n",
      "  cost = (-1/m) * np.sum(Y * np.log(A) + (1-Y) * np.log(1-A))\n"
     ]
    },
    {
     "data": {
      "text/plain": [
       "inf"
      ]
     },
     "execution_count": 40,
     "metadata": {},
     "output_type": "execute_result"
    }
   ],
   "source": [
    "w, b, X, Y = np.array([[1.], [2.], [1.2]]), 2., X_train, Y_train\n",
    "grads, cost = propagate(w, b, X, Y)\n",
    "cost.shape\n",
    "cost"
   ]
  },
  {
   "cell_type": "code",
   "execution_count": 54,
   "id": "06954797",
   "metadata": {},
   "outputs": [],
   "source": [
    "def optimise(w, b, X, Y, num_iterations, learning_rate, print_cost=False):\n",
    "    # Update parameters w and b using gradient descent\n",
    "    # Arguments:\n",
    "    # w - weights, a numpy array of size (num_px, 1)\n",
    "    # b - bias, a scalar\n",
    "    # X - data of shape (num_px, number of examples m)\n",
    "    # Y - true \"label\" vector of shape (1, number of examples m)\n",
    "    # num_iterations - number of iterations of the optimization loop\n",
    "    # learning_rate - learning rate of the gradient descent update rule\n",
    "    # print_cost - True to print the loss every 100 iterations\n",
    "    costs = []\n",
    "    \n",
    "    for i in range(num_iterations):\n",
    "        grads, cost = propagate(w, b, X, Y)\n",
    "        \n",
    "        # Retrieve derivatives\n",
    "        dw = grads[\"dw\"]\n",
    "        db = grads[\"db\"]\n",
    "        \n",
    "        # Update rule\n",
    "        w = w - learning_rate * dw\n",
    "        b = b - learning_rate * db\n",
    "        \n",
    "        if i % 100 == 0:\n",
    "            costs.append(cost)\n",
    "            \n",
    "        # Print the costs after every 100 iterations\n",
    "        if print_cost and i % 100 == 0:\n",
    "            print(\"Cost after iteration %i: %f\" %(i, cost))\n",
    "            \n",
    "    params = {\n",
    "        \"w\": w,\n",
    "        \"b\": b\n",
    "    }\n",
    "    \n",
    "    grads = {\n",
    "        \"dw\": dw,\n",
    "        \"db\": db\n",
    "    }\n",
    "        \n",
    "    return params, grads, costs"
   ]
  },
  {
   "cell_type": "code",
   "execution_count": 55,
   "id": "d77d7c00",
   "metadata": {},
   "outputs": [
    {
     "name": "stdout",
     "output_type": "stream",
     "text": [
      "Cost after iteration 0: inf\n",
      "Cost after iteration 100: 0.002014\n",
      "Cost after iteration 200: 0.002009\n",
      "Cost after iteration 300: 0.002004\n",
      "Cost after iteration 400: 0.001999\n",
      "Cost after iteration 500: 0.001994\n",
      "Cost after iteration 600: 0.001990\n",
      "Cost after iteration 700: 0.001985\n",
      "Cost after iteration 800: 0.001980\n",
      "Cost after iteration 900: 0.001975\n",
      "w: [[-0.1578925 ]\n",
      " [-0.78957933]\n",
      " [ 1.12226144]]\n",
      "b: 1.974015371240408\n",
      "dw: [[0.00135498]\n",
      " [0.0013465 ]\n",
      " [0.00088353]]\n",
      "db: 0.0008840253330065396\n"
     ]
    },
    {
     "name": "stderr",
     "output_type": "stream",
     "text": [
      "C:\\Users\\DEVASHISH\\AppData\\Local\\Temp\\ipykernel_28524\\2396889674.py:6: RuntimeWarning: divide by zero encountered in log\n",
      "  cost = (-1/m) * np.sum(Y * np.log(A) + (1-Y) * np.log(1-A))\n"
     ]
    }
   ],
   "source": [
    "params, grads, costs = optimise(w, b, X, Y, num_iterations = 1000, learning_rate = 0.009, print_cost = True)\n",
    "print(\"w: \" + str(params[\"w\"]))\n",
    "print(\"b: \" + str(params[\"b\"]))\n",
    "print(\"dw: \" + str(grads[\"dw\"]))\n",
    "print(\"db: \" + str(grads[\"db\"]))"
   ]
  },
  {
   "cell_type": "code",
   "execution_count": 56,
   "id": "637ca684",
   "metadata": {},
   "outputs": [],
   "source": [
    "def predict(w, b, X):\n",
    "    # Predict whether label is 0 or 1 using logistic regression via parameters w and b\n",
    "    # Arguments:\n",
    "    # w - weights, a numpy array of size (num_px, 1)\n",
    "    # b - bias, a scalar\n",
    "    # X - data, a numpy array of shape (num_px, number of examples m)\n",
    "    # Returns:\n",
    "    # Y_prediction - predicted labels 0 or 1, a numpy array of shape (1, number of examples m)\n",
    "    m = X.shape[1]\n",
    "    Y_prediction = np.zeros(shape = (1, m))\n",
    "    w = w.reshape(X.shape[0], 1)\n",
    "    \n",
    "    # Compute vector A to derive probabilities between 0 and 1 of image being ad or not\n",
    "    A = sigmoid(np.dot(w.T,X) + b)\n",
    "    \n",
    "    for i in range(A.shape[1]):\n",
    "        if A[0,i] <= 0.5:\n",
    "            Y_prediction[0,i] = 0\n",
    "        else:\n",
    "            Y_prediction[0,i] = 1\n",
    "    \n",
    "    assert(Y_prediction.shape == (1,m))\n",
    "    \n",
    "    return Y_prediction"
   ]
  },
  {
   "cell_type": "code",
   "execution_count": 58,
   "id": "075b8c96",
   "metadata": {},
   "outputs": [
    {
     "name": "stdout",
     "output_type": "stream",
     "text": [
      "predictions: [[1. 1. 0.]]\n"
     ]
    }
   ],
   "source": [
    "def predict(w, b, X):\n",
    "    # Compute the predictions based on weights (w), bias (b), and input data (X)\n",
    "    # Arguments:\n",
    "    # w - weights, a numpy array of size (num_px, 1)\n",
    "    # b - bias, a scalar\n",
    "    # X - data of shape (num_px, number of examples m)\n",
    "    \n",
    "    m = X.shape[1]  # Number of examples\n",
    "    Y_predictions = np.zeros((1, m))  # Initialize predictions array\n",
    "    \n",
    "    # Compute activation values and make predictions\n",
    "    A = sigmoid(np.dot(w.T, X) + b)\n",
    "    Y_predictions[A > 0.5] = 1\n",
    "    \n",
    "    return Y_predictions\n",
    "\n",
    "# Example usage:\n",
    "w = np.array([[0.1124579], [0.23106775]])\n",
    "b = -0.3\n",
    "X = np.array([[1., -1.1, -3.2], [1.2, 2., 0.1]])\n",
    "\n",
    "print(\"predictions: \" + str(predict(w, b, X)))"
   ]
  },
  {
   "cell_type": "code",
   "execution_count": 61,
   "id": "d9784ba7",
   "metadata": {},
   "outputs": [],
   "source": [
    "# model()\n",
    "def model(X_train, Y_train, X_test, Y_test, num_iterations = 2000, learning_rate = 0.01, print_cost = False):\n",
    "    # Builds the logistic regression model based on the helper functions created above\n",
    "    # Arguments:\n",
    "    # X_train - train set, numpy array of size (num_px, number of examples m)\n",
    "    # Y_train - train label vector, numpy array of size (1, number of examples m)\n",
    "    # X_test - test set, numpy array of size (num_px, number of examples m)\n",
    "    # Y_test - test label vector, numpy array of size (1, number of examples m)\n",
    "    # num_iterations - a scalar\n",
    "    # learning_rate - a scalar\n",
    "    # print_cost - True to print cost for every 100 iterations\n",
    "    # Returns:\n",
    "    # d - dictionary of costs, predictions, and parameters w and b, learning rate and number of iterations\n",
    "    \n",
    "    # Initialise parameters w and b with zeros\n",
    "    w, b = initialise_with_zeros(X_train.shape[0])\n",
    "    \n",
    "    # Gradient descent\n",
    "    parameters, grads, costs = optimise(w, b, X_train, Y_train, num_iterations, learning_rate, print_cost)\n",
    "    \n",
    "    # Retrieve parameters w and b\n",
    "    w = parameters[\"w\"]\n",
    "    b = parameters[\"b\"]\n",
    "    \n",
    "    # Predict train and test sets\n",
    "    Y_prediction_train = predict(w, b, X_train)\n",
    "    Y_prediction_test = predict(w, b, X_test)\n",
    "    \n",
    "    # Print train and test set errors\n",
    "    print(\"train accuracy: {} %\".format(100 - np.mean(np.abs(Y_prediction_train - Y_train)) * 100))\n",
    "    print(\"test accuracy: {} %\".format(100 - np.mean(np.abs(Y_prediction_test - Y_test)) * 100))\n",
    "    \n",
    "    d = {\n",
    "        \"costs\": costs,\n",
    "        \"Y_prediction_train\": Y_prediction_train,\n",
    "        \"Y_prediction_test\": Y_prediction_test,\n",
    "        \"w\": w,\n",
    "        \"b\": b,\n",
    "        \"learning_rate\": learning_rate,\n",
    "        \"num_iterations\": num_iterations\n",
    "    }\n",
    "    \n",
    "    return d"
   ]
  },
  {
   "cell_type": "code",
   "execution_count": 62,
   "id": "1fe6c52c",
   "metadata": {},
   "outputs": [
    {
     "name": "stdout",
     "output_type": "stream",
     "text": [
      "Cost after iteration 0: 0.693147\n",
      "Cost after iteration 100: 0.035014\n",
      "Cost after iteration 200: 0.024450\n",
      "Cost after iteration 300: 0.019754\n",
      "Cost after iteration 400: 0.016932\n",
      "Cost after iteration 500: 0.014991\n",
      "Cost after iteration 600: 0.013550\n",
      "Cost after iteration 700: 0.012424\n",
      "Cost after iteration 800: 0.011513\n",
      "Cost after iteration 900: 0.010756\n",
      "Cost after iteration 1000: 0.010115\n",
      "Cost after iteration 1100: 0.009563\n",
      "Cost after iteration 1200: 0.009081\n",
      "Cost after iteration 1300: 0.008656\n",
      "Cost after iteration 1400: 0.008278\n",
      "Cost after iteration 1500: 0.007938\n",
      "Cost after iteration 1600: 0.007631\n",
      "Cost after iteration 1700: 0.007352\n",
      "Cost after iteration 1800: 0.007097\n",
      "Cost after iteration 1900: 0.006863\n",
      "Cost after iteration 2000: 0.006647\n",
      "Cost after iteration 2100: 0.006448\n",
      "Cost after iteration 2200: 0.006262\n",
      "Cost after iteration 2300: 0.006089\n",
      "Cost after iteration 2400: 0.005928\n",
      "Cost after iteration 2500: 0.005776\n",
      "Cost after iteration 2600: 0.005634\n",
      "Cost after iteration 2700: 0.005500\n",
      "Cost after iteration 2800: 0.005374\n",
      "Cost after iteration 2900: 0.005254\n",
      "train accuracy: 100.0 %\n",
      "test accuracy: 100.0 %\n"
     ]
    }
   ],
   "source": [
    "d = model(X_train, Y_train, X_test, Y_test, num_iterations = 3000, learning_rate = 0.0001, print_cost = True)"
   ]
  },
  {
   "cell_type": "code",
   "execution_count": 63,
   "id": "aae8a222",
   "metadata": {},
   "outputs": [
    {
     "data": {
      "image/png": "[encoded data removed]",
      "text/plain": [
       "<Figure size 640x480 with 1 Axes>"
      ]
     },
     "metadata": {},
     "output_type": "display_data"
    }
   ],
   "source": [
    "costs = np.squeeze(d[\"costs\"])\n",
    "plt.plot(costs)\n",
    "plt.ylabel('cost')\n",
    "plt.xlabel('iterations (per hundreds)')\n",
    "plt.title(\"Learning rate: \" + str(d[\"learning_rate\"]))\n",
    "plt.show()"
   ]
  }
 ],
 "metadata": {
  "kernelspec": {
   "display_name": "Python 3 (ipykernel)",
   "language": "python",
   "name": "python3"
  },
  "language_info": {
   "codemirror_mode": {
    "name": "ipython",
    "version": 3
   },
   "file_extension": ".py",
   "mimetype": "text/x-python",
   "name": "python",
   "nbconvert_exporter": "python",
   "pygments_lexer": "ipython3",
   "version": "3.9.13"
  }
 },
 "nbformat": 4,
 "nbformat_minor": 5
}
